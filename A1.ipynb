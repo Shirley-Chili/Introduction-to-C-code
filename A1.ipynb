{
 "cells": [
  {
   "cell_type": "markdown",
   "metadata": {},
   "source": [
    "## 2MP3 Fall 2020 Assginment 1\n",
    "### Assigned Moday, September 21st Due Sunday September 27th, 11:59 pm\n",
    "### Maximum grade: \n",
    "\n",
    "The purpose of this Assignment is to:\n",
    "* Become familiar with Jupyter notebooks\n",
    "* Understand how to test your own solutions\n",
    "* Practice writing syntactically correct expressions in C\n",
    "\n",
    "\n",
    "You are supposed to download this notebook, embed your answers to the questions in the cells below, and submit it through Jupyterhub. \n",
    "\n",
    "This Assignment includes three short answer questions, two multiple choice like questions, and four Coding questions.\n",
    "\n",
    "### SPECIAL INSTRUCTIONS\n",
    "\n",
    "* When answering a coding question, please do not delete or modify in any way the lines containing `[PRECONDITION TAG]` and `[POSTCONDITION TAG]`, or remove any `#include` statements. If you delete or modify these lines, it will break the autograder, and you will not get any marks for the question!  "
   ]
  },
  {
   "cell_type": "markdown",
   "metadata": {},
   "source": [
    "### Question 1 (2 points)\n",
    "##### Explain the difference between a high level language and a low level language. Be specific and give examples for both.\n",
    "Write your answer in the cell below."
   ]
  },
  {
   "cell_type": "markdown",
   "metadata": {
    "deletable": false,
    "nbgrader": {
     "cell_type": "markdown",
     "checksum": "6db81385e02f812c1a432aa5e37d5c3c",
     "grade": true,
     "grade_id": "cell-071f7e183ee2ffc8",
     "locked": false,
     "points": 2,
     "schema_version": 3,
     "solution": true,
     "task": false
    }
   },
   "source": [
    "1. Low level language: \n",
    "    - An operation may represent comparatively few hardware instruction.\n",
    "    - Look more complex than high level language.\n",
    "    - Example: C, C++ and assembly language\n",
    "2. High level language: \n",
    "    - An operation represent many hardware instructions.\n",
    "    - Single statement could be written to accomplish substantial tasks.\n",
    "    - Allow us to write instructions that look almost like everyday English and coontain commonly used mathematical notations\n",
    "    - Example: Python and Haskell."
   ]
  },
  {
   "cell_type": "markdown",
   "metadata": {},
   "source": [
    "### Question 2 (3 points)\n",
    "##### What are the different types of computer memory, and what do they do (what are they used for)?\n",
    "Write your answer in the cell below."
   ]
  },
  {
   "cell_type": "markdown",
   "metadata": {
    "deletable": false,
    "nbgrader": {
     "cell_type": "markdown",
     "checksum": "9e645516bd864e1f2da06080c2d52b22",
     "grade": true,
     "grade_id": "cell-e2f06d4fddc767f2",
     "locked": false,
     "points": 3,
     "schema_version": 3,
     "solution": true,
     "task": false
    }
   },
   "source": [
    "1. ROM: \n",
    " System's permanent data storage(hard drive, SSD and USB)\n",
    "2. RAM:\n",
    " System's working memory.  On execution, programs are loaded from ROM into RAM.\n",
    "3. Cache memory: \n",
    "Holding frequently requested data and instructions so that they are immediately available to the CPU when needed.\n",
    "4. Registers:\n",
    "Memory storage internal to the CPU. \n",
    "Data must be loaded into registers in order for the CPU to perform operations on it\n",
    "\n"
   ]
  },
  {
   "cell_type": "markdown",
   "metadata": {},
   "source": [
    "### Question 3 (2 points)\n",
    "##### What is a compiler, what does it do? What are the steps of compilation? make sure to explain each step.\n",
    "Write your answer in the cell below."
   ]
  },
  {
   "cell_type": "markdown",
   "metadata": {
    "deletable": false,
    "nbgrader": {
     "cell_type": "markdown",
     "checksum": "a487888fc54d34d2a517abd2a5fe4d4e",
     "grade": true,
     "grade_id": "cell-a2c3d6f53a8654ab",
     "locked": false,
     "points": 2,
     "schema_version": 3,
     "solution": true,
     "task": false
    }
   },
   "source": [
    "- Compiler: translate the c program to machine language code\n",
    "- Steps of compilation:\n",
    "    1. Preprocessing: Remove comments, expanding any macros, expanding any included code and etc to make the codeready for parsing and generation\n",
    "    2. parsing: break down the code into tokens and arrange the tokens in to a hierarchical AST.\n",
    "    3. Assembly: use AST to create a series of machine code instructions and save the instructions as objective file\n",
    "    4. Linking: Linked up the object file with the relevent libraries and produce an executable\n"
   ]
  },
  {
   "cell_type": "markdown",
   "metadata": {},
   "source": [
    "### Question 4 (1 point)\n",
    "##### Which of the following are valid variable names in c:\n",
    "`Var`&emsp;`VAR`&emsp;`my var`&emsp;`_`&emsp;`main`&emsp;`$var`&emsp;`amount**`&emsp;`2cat`&emsp;`Hot-Tub`&emsp;`var$`\n",
    "\n",
    "`don't`\n",
    "\n",
    "Include the variable names that you think are valid in the array below and remove the ones that you think are invalid."
   ]
  },
  {
   "cell_type": "markdown",
   "metadata": {
    "deletable": false,
    "nbgrader": {
     "cell_type": "markdown",
     "checksum": "17732a35959bf68a176d569c1b1caaf1",
     "grade": true,
     "grade_id": "cell-d1a33ef640b6a8ed",
     "locked": false,
     "points": 1,
     "schema_version": 3,
     "solution": true,
     "task": false
    }
   },
   "source": [
    "Var, VAR, _"
   ]
  },
  {
   "cell_type": "markdown",
   "metadata": {},
   "source": [
    "### Question 5 (1 point)\n",
    "##### What are the basic program interaction streams in C : (Hint there a three)\n",
    "\n",
    "Include your answers in the array below instead of `ans1` `ans2` `ans3`"
   ]
  },
  {
   "cell_type": "markdown",
   "metadata": {
    "deletable": false,
    "nbgrader": {
     "cell_type": "markdown",
     "checksum": "ae503378b4194b91eff4b206a60488fd",
     "grade": true,
     "grade_id": "cell-92a9406247fc260e",
     "locked": false,
     "points": 1,
     "schema_version": 3,
     "solution": true,
     "task": false
    }
   },
   "source": [
    "stdin, stdout, stderr\n"
   ]
  },
  {
   "cell_type": "markdown",
   "metadata": {},
   "source": [
    "### Question 6 (3 points)\n",
    "#### Compound Interest with Regular Deposits \n",
    "\n",
    "If `p` is the bank's interest rate in decimal (e.g., `0.05` means 5%.) per year, an initial amount `a` will grow after `n` years to: $$a(1 + p)^n$$\n",
    "\n",
    "Write a C program that, having declared \n",
    "\n",
    "returns the future value (that is, the total amount of funds), starting with amount `a`, rate `p`, for `n` years. You can assume that all parameters are non-negative. (Your solution does not need to check for that condition, it should simply assume it.)  The input `p` represents the interest rate as a floating point number. "
   ]
  },
  {
   "cell_type": "code",
   "execution_count": 1,
   "metadata": {
    "deletable": false,
    "nbgrader": {
     "cell_type": "code",
     "checksum": "3ce92008dbdeb26a5f711c45160242cd",
     "grade": false,
     "grade_id": "cell-9e5224d808f38dc3",
     "locked": false,
     "schema_version": 3,
     "solution": true,
     "task": false
    }
   },
   "outputs": [
    {
     "name": "stderr",
     "output_type": "stream",
     "text": [
      "/tmp/tmp97xwf451.out: symbol lookup error: /tmp/tmpxr5_u2x9.out: undefined symbol: pow\n",
      "[C kernel] Executable exited with code 127"
     ]
    }
   ],
   "source": [
    "#include <stdio.h>\n",
    "#include <assert.h>\n",
    "#include <math.h>\n",
    "\n",
    "int main () {\n",
    "    // for this question, the following variable names must be used:\n",
    "    float p; // [Input] The interest rate\n",
    "    int a; // [Input] The initial deposit\n",
    "    int n; // [Input] The number of years\n",
    "    float out; // [Output] the \n",
    "    // [PRECONDITION TAG] \n",
    "\n",
    "    // Your Code Here\n",
    "    scanf(\"%f%d%d\",&p,&a,&n);\n",
    "    out=a*pow((1+p),n);\n",
    "    printf(\"%f\",out);\n",
    "    \n",
    "    // [POSTCONDITION TAG]\n",
    "    return 0;\n",
    "}\n"
   ]
  },
  {
   "cell_type": "code",
   "execution_count": null,
   "metadata": {
    "deletable": false,
    "editable": false,
    "nbgrader": {
     "cell_type": "code",
     "checksum": "ed539f6134c00f6ca73feaa00775ef3c",
     "grade": true,
     "grade_id": "cell-2beb53cf5ad5fa92",
     "locked": true,
     "points": 1,
     "schema_version": 3,
     "solution": false,
     "task": false
    }
   },
   "outputs": [],
   "source": []
  },
  {
   "cell_type": "code",
   "execution_count": null,
   "metadata": {
    "deletable": false,
    "editable": false,
    "nbgrader": {
     "cell_type": "code",
     "checksum": "7915f0ca478dd479712d7cd9bfc42172",
     "grade": true,
     "grade_id": "cell-0a81c0119231ff3b",
     "locked": true,
     "points": 2,
     "schema_version": 3,
     "solution": false,
     "task": false
    }
   },
   "outputs": [],
   "source": []
  },
  {
   "cell_type": "markdown",
   "metadata": {},
   "source": [
    "### Question 7 (3 points)\n",
    "#### Leap Year \n",
    "\n",
    "Write a C function `LeapYearCheck(int n)` that, having declared an unsigned integer n, assigns to the variable `out` the Boolean value `False` if the year is not a leap year and `True` if the year is a leap year. \n"
   ]
  },
  {
   "cell_type": "code",
   "execution_count": null,
   "metadata": {
    "deletable": false,
    "nbgrader": {
     "cell_type": "code",
     "checksum": "10b45e51c83b88a67445d7326ad21d7a",
     "grade": false,
     "grade_id": "cell-096c35131eceb134",
     "locked": false,
     "schema_version": 3,
     "solution": true,
     "task": false
    }
   },
   "outputs": [],
   "source": [
    "int main () {\n",
    "    // for this question, the following variable names must be used:\n",
    "    int n; // [Input] The year\n",
    "    bool out; // [Output] \n",
    "    // [PRECONDITION TAG] \n",
    "\n",
    "    // Your Code Here\n",
    "    scanf(\"%d\",&n);\n",
    "    if(n%4==0){\n",
    "       out = true;   \n",
    "    }\n",
    "    else{\n",
    "        out=false;\n",
    "    }\n",
    "    printf(\"%d\",out);\n",
    "    \n",
    "    // [POSTCONDITION TAG]\n",
    "    return 0;\n",
    "}"
   ]
  },
  {
   "cell_type": "code",
   "execution_count": null,
   "metadata": {
    "deletable": false,
    "editable": false,
    "nbgrader": {
     "cell_type": "code",
     "checksum": "9b865fca5979db48dc6873171e6a0594",
     "grade": true,
     "grade_id": "cell-f1f45f2885585b95",
     "locked": true,
     "points": 1,
     "schema_version": 3,
     "solution": false,
     "task": false
    }
   },
   "outputs": [],
   "source": []
  },
  {
   "cell_type": "code",
   "execution_count": null,
   "metadata": {
    "deletable": false,
    "editable": false,
    "nbgrader": {
     "cell_type": "code",
     "checksum": "8dc8145148d044bc22756fe7c5c0d744",
     "grade": true,
     "grade_id": "cell-190ae1d8ba7f4424",
     "locked": true,
     "points": 2,
     "schema_version": 3,
     "solution": false,
     "task": false
    }
   },
   "outputs": [],
   "source": []
  },
  {
   "cell_type": "markdown",
   "metadata": {},
   "source": [
    "### Question 8 (4 points)\n",
    "#### Factorial Calculator \n",
    "\n",
    "Write 2 C function `FactorialWhile` and `FactorialDoWhile` using the function shells below.   that return the factorial of a non-negative input integer `n`. Both functions should return the same output. However, the first function should be implemented using while loops and the second function should be implemented using do while loops."
   ]
  },
  {
   "cell_type": "code",
   "execution_count": null,
   "metadata": {
    "deletable": false,
    "nbgrader": {
     "cell_type": "code",
     "checksum": "6ce2c53554567c4e15d5db5d4aff0694",
     "grade": false,
     "grade_id": "cell-580c3b186ff1b69f",
     "locked": false,
     "schema_version": 3,
     "solution": true,
     "task": false
    }
   },
   "outputs": [],
   "source": [
    "#include <stdio.h>\n",
    "#include <stdlib.h>\n",
    "\n",
    "unsigned int FactorialWhile(unsigned int n){\n",
    "    // Your Code Here\n",
    "    unsigned int out=1; \n",
    "    while(n!=0){\n",
    "        out=out*n;\n",
    "        n=n-1;\n",
    "    }\n",
    "    return out;\n",
    "}\n",
    "\n",
    "unsigned int FactorialDoWhile(unsigned int n){\n",
    "    \n",
    "    //Your code goes here\n",
    "    unsigned int out=1;\n",
    "    do{\n",
    "        out=out*n;\n",
    "        n=n-1;\n",
    "    }while(n!=1);\n",
    "    return out;\n",
    "}\n",
    "\n",
    "int main () {\n",
    "    // for this question, the following variable names must be used:\n",
    "    unsigned int n; // [Input] The n in n!\n",
    "    unsigned int out1; // [Output] ouput of FactorialWhile\n",
    "    unsigned int out2; // [Output] output of FactorialDoWhile\n",
    "    // [PRECONDITION TAG] \n",
    "\n",
    "    scanf(\"%u\",&n);\n",
    "    out1=FactorialWhile(n);\n",
    "    out2=FactorialDoWhile(n);\n",
    "    printf(\"out1 is %u and out2 is %u\",out1,out2);\n",
    "    \n",
    "    // [POSTCONDITION TAG]\n",
    "    return 0;\n",
    "}"
   ]
  },
  {
   "cell_type": "code",
   "execution_count": null,
   "metadata": {
    "deletable": false,
    "editable": false,
    "nbgrader": {
     "cell_type": "code",
     "checksum": "8f175ea6adc9733da0f74434d5ac52c2",
     "grade": true,
     "grade_id": "cell-9e976da88e3d08a9",
     "locked": true,
     "points": 1,
     "schema_version": 3,
     "solution": false,
     "task": false
    }
   },
   "outputs": [],
   "source": []
  },
  {
   "cell_type": "code",
   "execution_count": null,
   "metadata": {
    "deletable": false,
    "editable": false,
    "nbgrader": {
     "cell_type": "code",
     "checksum": "3da00804336b4b38e125932e390d83ae",
     "grade": true,
     "grade_id": "cell-f01bcb5dc7c1efce",
     "locked": true,
     "points": 1,
     "schema_version": 3,
     "solution": false,
     "task": false
    }
   },
   "outputs": [],
   "source": []
  },
  {
   "cell_type": "code",
   "execution_count": null,
   "metadata": {
    "deletable": false,
    "editable": false,
    "nbgrader": {
     "cell_type": "code",
     "checksum": "6d311c62f80225692410512e2935eb48",
     "grade": true,
     "grade_id": "cell-585995425182107c",
     "locked": true,
     "points": 1,
     "schema_version": 3,
     "solution": false,
     "task": false
    }
   },
   "outputs": [],
   "source": []
  },
  {
   "cell_type": "code",
   "execution_count": null,
   "metadata": {
    "deletable": false,
    "editable": false,
    "nbgrader": {
     "cell_type": "code",
     "checksum": "4796a481cf68b7cf7f58b942ec7de7a9",
     "grade": true,
     "grade_id": "cell-929aeb7ca933247d",
     "locked": true,
     "points": 1,
     "schema_version": 3,
     "solution": false,
     "task": false
    }
   },
   "outputs": [],
   "source": []
  },
  {
   "cell_type": "markdown",
   "metadata": {},
   "source": [
    "### Question 9  (6 points)\n",
    "#### Interactive Gas Mileage Calculator\n",
    "\n",
    "Develop a program that calculates a user's average gas mileage, based on information the user provides via prompts: \n",
    "\n",
    "The user will be prompted to enter the amount of fuel they used, and then the distance travelled on that fuel. Both these numbers should be interpretted as floating point numbers. After each pair of fuel/distance information has been entered, the program will ask the user whether they have more data to enter.  The user will enter `y` for yes and `n` for no.  If the user says no, the program will display the average gas mileage for all the trips entered.\n",
    "\n",
    "Gas mileage for a trip is simply the distance travelled divided by the fuel used.  \n",
    "\n",
    "### IMPORTANT NOTE!\n",
    "\n",
    "The scanf function does not work at the moment because the C Kernel that we're using has a bug in it.  Please develop your program in an external environment and copy it into the following answer box."
   ]
  },
  {
   "cell_type": "code",
   "execution_count": null,
   "metadata": {
    "deletable": false,
    "nbgrader": {
     "cell_type": "code",
     "checksum": "9a9a6a724079212e30622827d452aa0a",
     "grade": true,
     "grade_id": "cell-9343d6224895955b",
     "locked": false,
     "points": 6,
     "schema_version": 3,
     "solution": true,
     "task": false
    }
   },
   "outputs": [],
   "source": [
    "// Your Code Here\n",
    "#include <stdio.h>\n",
    "int main(){\n",
    "    float fuel;\n",
    "    float distance;\n",
    "    char yorn='y';\n",
    "    float total_fuel=0;\n",
    "    float total_distance=0;\n",
    "    float average;\n",
    "    while(yorn=='y'){\n",
    "        scanf(\"%f %f %c\",&fuel,&distance,&yorn);\n",
    "        \n",
    "        total_fuel=total_fuel+fuel;\n",
    "        total_distance=total_distance+distance;  \n",
    "    }\n",
    "    average=total_fuel/total_distance;\n",
    "    printf(\"%f\",average);\n",
    "    return 0;\n",
    "}"
   ]
  },
  {
   "cell_type": "code",
   "execution_count": null,
   "metadata": {},
   "outputs": [],
   "source": []
  }
 ],
 "metadata": {
  "kernelspec": {
   "display_name": "C",
   "language": "c",
   "name": "c"
  },
  "language_info": {
   "file_extension": ".c",
   "mimetype": "text/plain",
   "name": "c"
  }
 },
 "nbformat": 4,
 "nbformat_minor": 4
}
